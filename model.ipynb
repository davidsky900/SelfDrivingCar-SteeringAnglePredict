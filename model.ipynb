{
 "cells": [
  {
   "cell_type": "code",
   "execution_count": 1,
   "metadata": {
    "collapsed": true
   },
   "outputs": [],
   "source": [
    "## Download and upzip data set, only need to be done once\n",
    "## download \n",
    "# curl -O https://d17h27t6h515a5.cloudfront.net/topher/2016/December/584f6edd_data/data.zip\n",
    "\n",
    "## unzip\n",
    "# unzip data.zip\n",
    "\n",
    "\n",
    "## Connect AWS EC2 with Filezilla\n",
    "# username carnd, password carnd, port 22"
   ]
  },
  {
   "cell_type": "code",
   "execution_count": 2,
   "metadata": {
    "collapsed": true
   },
   "outputs": [],
   "source": [
    "# Import modules\n",
    "import csv\n",
    "import cv2\n",
    "import numpy as np\n",
    "import sklearn\n",
    "import matplotlib.pyplot as plt\n",
    "from sklearn.utils import shuffle\n",
    "from sklearn.model_selection import train_test_split"
   ]
  },
  {
   "cell_type": "code",
   "execution_count": 3,
   "metadata": {
    "collapsed": true
   },
   "outputs": [],
   "source": [
    "lines = []\n",
    "with open('data/driving_log.csv') as csvfile:\n",
    "    reader = csv.reader(csvfile)\n",
    "    for line in reader:\n",
    "        lines.append(line)\n",
    "\n",
    "trainHeader, validHeader = train_test_split(lines[1:], test_size = 0.2)"
   ]
  },
  {
   "cell_type": "code",
   "execution_count": 6,
   "metadata": {
    "collapsed": true
   },
   "outputs": [],
   "source": [
    "# Data cleaning and pre-process\n",
    "# 1. check BGR to RGB\n",
    "# 2. check unbalanced angleCorr\n",
    "def dataGenerator(header, batchSize = 32):\n",
    "    n = len(header)\n",
    "    while True:\n",
    "        shuffle(header)\n",
    "        for offset in range(0, n, batchSize):\n",
    "            headerBatch = header[offset : offset + batchSize]\n",
    "            images = []\n",
    "            angles = []\n",
    "            angleCorr = 0.2\n",
    "            for headerSample in headerBatch:\n",
    "                for i in range(3):\n",
    "                    sourcePath = headerSample[i]\n",
    "                    fileName = sourcePath.split('/')[-1]\n",
    "                    curPath = 'data/IMG/' + fileName\n",
    "                    image = cv2.imread(curPath)\n",
    "                    image = cv2.cvtColor(image, cv2.COLOR_BGR2RGB)\n",
    "                    images.append(image)\n",
    "                    images.append(cv2.flip(image,1))\n",
    "                angleCenter = float(headerSample[3])\n",
    "                angleLeft = angleCenter + angleCorr\n",
    "                angleRight = angleCenter - angleCorr\n",
    "                angles.append(angleCenter)\n",
    "                angles.append(angleCenter*-1.0)\n",
    "                angles.append(angleLeft)\n",
    "                angles.append(angleLeft*-1.0)\n",
    "                angles.append(angleRight)\n",
    "                angles.append(angleRight*-1.0)\n",
    "            X_train = np.array(images)\n",
    "            y_train = np.array(angles)\n",
    "            yield shuffle(X_train, y_train)"
   ]
  },
  {
   "cell_type": "code",
   "execution_count": 7,
   "metadata": {
    "collapsed": true
   },
   "outputs": [],
   "source": [
    "trainGen = dataGenerator(trainHeader, batchSize = 32)\n",
    "validGen = dataGenerator(validHeader, batchSize = 32)\n",
    "trainLen = 6*len(trainHeader)\n",
    "validLen = 6*len(validHeader)"
   ]
  },
  {
   "cell_type": "code",
   "execution_count": 8,
   "metadata": {},
   "outputs": [
    {
     "name": "stderr",
     "output_type": "stream",
     "text": [
      "Using TensorFlow backend.\n"
     ]
    },
    {
     "name": "stdout",
     "output_type": "stream",
     "text": [
      "Epoch 1/5\n",
      "38568/38568 [==============================] - 98s - loss: 0.0199 - val_loss: 0.0178\n",
      "Epoch 2/5\n",
      "38568/38568 [==============================] - 92s - loss: 0.0155 - val_loss: 0.0158\n",
      "Epoch 3/5\n",
      "38568/38568 [==============================] - 89s - loss: 0.0141 - val_loss: 0.0152\n",
      "Epoch 4/5\n",
      "38568/38568 [==============================] - 89s - loss: 0.0131 - val_loss: 0.0148\n",
      "Epoch 5/5\n",
      "38568/38568 [==============================] - 89s - loss: 0.0121 - val_loss: 0.0145\n"
     ]
    }
   ],
   "source": [
    "from keras.models import Sequential\n",
    "from keras.layers import Flatten, Dense, Lambda, Cropping2D, Convolution2D\n",
    "\n",
    "model = Sequential()\n",
    "model.add(Lambda(lambda x: x / 255.0 - 0.5, input_shape = (160, 320, 3)))\n",
    "model.add(Cropping2D(cropping = ((50, 20),(0,0))))\n",
    "model.add(Convolution2D(24,5,5, subsample = (2,2), activation = \"relu\"))\n",
    "model.add(Convolution2D(36,5,5, subsample = (2,2), activation = \"relu\"))\n",
    "model.add(Convolution2D(48,5,5, subsample = (2,2), activation = \"relu\"))\n",
    "model.add(Convolution2D(64,3,3, activation = \"relu\"))\n",
    "model.add(Convolution2D(64,3,3, activation = \"relu\"))\n",
    "model.add(Flatten())\n",
    "model.add(Dense(100))\n",
    "model.add(Dense(50))\n",
    "model.add(Dense(10))\n",
    "model.add(Dense(1))\n",
    "\n",
    "model.compile(loss = 'mse', optimizer = 'adam')\n",
    "trainHistory = model.fit_generator(trainGen, samples_per_epoch = trainLen,\n",
    "                   validation_data = validGen, nb_val_samples = validLen, nb_epoch = 5)\n",
    "\n",
    "model.save('modelV2.h5')"
   ]
  },
  {
   "cell_type": "code",
   "execution_count": 10,
   "metadata": {},
   "outputs": [
    {
     "name": "stdout",
     "output_type": "stream",
     "text": [
      "dict_keys(['loss', 'val_loss'])\n"
     ]
    },
    {
     "data": {
      "image/png": "[encoded data removed]",
      "text/plain": [
       "<matplotlib.figure.Figure at 0x7f9d60746400>"
      ]
     },
     "metadata": {},
     "output_type": "display_data"
    }
   ],
   "source": [
    "### print the keys contained in the history object\n",
    "print(trainHistory.history.keys())\n",
    "\n",
    "### plot the training and validation loss for each epoch\n",
    "fig = plt.figure()\n",
    "plt.plot(trainHistory.history['loss'])\n",
    "plt.plot(trainHistory.history['val_loss'])\n",
    "plt.title('MSE loss')\n",
    "plt.ylabel('MSE loss')\n",
    "plt.xlabel('Epoch')\n",
    "plt.legend(['Training set', 'Validation set'], loc='upper right')\n",
    "plt.show()\n",
    "fig.savefig('examples/MESLoss')"
   ]
  },
  {
   "cell_type": "code",
   "execution_count": null,
   "metadata": {
    "collapsed": true
   },
   "outputs": [],
   "source": []
  }
 ],
 "metadata": {
  "kernelspec": {
   "display_name": "Python 3",
   "language": "python",
   "name": "python3"
  },
  "language_info": {
   "codemirror_mode": {
    "name": "ipython",
    "version": 3
   },
   "file_extension": ".py",
   "mimetype": "text/x-python",
   "name": "python",
   "nbconvert_exporter": "python",
   "pygments_lexer": "ipython3",
   "version": "3.5.2"
  },
  "widgets": {
   "state": {},
   "version": "1.1.2"
  }
 },
 "nbformat": 4,
 "nbformat_minor": 2
}
